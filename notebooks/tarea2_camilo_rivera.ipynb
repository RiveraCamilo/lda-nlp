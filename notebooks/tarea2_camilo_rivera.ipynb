{
 "cells": [
  {
   "cell_type": "markdown",
   "id": "5caf7a9c",
   "metadata": {},
   "source": [
    "# Tarea N°2 | Procesamiento de lenguaje natural\n",
    "### Comparación de Topic Modeling (LDA) y Clustering (KMeans)\n",
    "\n",
    "<div>\n",
    "<img src=\"https://i.ibb.co/v3CvVz9/udd-short.png\" width=\"150\"/>\n",
    "    <br>\n",
    "    <strong>Magister en Data Science, Universidad del Desarrollo</strong><br>\n",
    "    <em>Profesora: Maria Paz Raveau</em><br>\n",
    "\n",
    "</div>\n",
    "\n",
    "*03 de agosto de 2025*\n",
    "\n",
    "**Nombre estudiante**: Camilo Rivera Verdugo  \n",
    "\n",
    "-----------"
   ]
  },
  {
   "cell_type": "markdown",
   "id": "d012f721",
   "metadata": {},
   "source": [
    "## 1. Descripción\n",
    "\n",
    "El objetivo de este proyecto es comparar dos técnicas de análisis de textos: **LDA (Latent Dirichlet Allocation)** y **KMeans Clustering**, aplicadas sobre un subset del dataset “El Chile que Queremos”. Se busca evaluar cómo la incorporación de bigramas y el uso de técnicas diferentes de agrupación permiten identificar temáticas relevantes en las opiniones ciudadanas. A través de la creación de una matriz DTM, se ejecutan ambos modelos sobre la misma base de datos, analizando la calidad de los tópicos obtenidos, la segmentación en clusters y la coherencia de cada partición.\n"
   ]
  },
  {
   "cell_type": "code",
   "execution_count": 30,
   "id": "9af2baa0",
   "metadata": {},
   "outputs": [],
   "source": [
    "# Se importan las librerías necesarias\n",
    "import pandas as pd\n",
    "import gensim\n",
    "from gensim.utils import simple_preprocess\n",
    "from gensim.models.phrases import Phrases, Phraser\n",
    "from nltk.corpus import stopwords\n",
    "from gensim.models import CoherenceModel\n",
    "from sklearn.feature_extraction.text import CountVectorizer\n",
    "from sklearn.cluster import KMeans\n",
    "from sklearn.metrics import silhouette_score\n",
    "import matplotlib.pyplot as plt\n",
    "import nltk\n",
    "import stanza\n",
    "from nltk.tokenize import word_tokenize\n",
    "import re"
   ]
  },
  {
   "cell_type": "markdown",
   "id": "4cd8eff1",
   "metadata": {},
   "source": [
    "## 2. Preparación y preprocesamiento \n",
    "\n",
    "En esta sección se realiza la carga del dataset y se ejecuta el preprocesamiento de los textos, que incluye la eliminación de stopwords, la lematización utilizando Stanza y la incorporación de bigramas, . Esto con el objetivo de normalizar el lenguaje y reducir la dimensionalidad del texto, dejando los datos listos para el análisis de tópicos y clustering.\n"
   ]
  },
  {
   "cell_type": "code",
   "execution_count": 31,
   "id": "06954d7a",
   "metadata": {},
   "outputs": [],
   "source": [
    "# Descargar stopwords\n",
    "# nltk.download('stopwords')\n",
    "\n",
    "esp_stop = stopwords.words('spanish')\n",
    "esp_stop = esp_stop + ['ser','tener','deber','haber','hacer','poder','ir']\n",
    "esp_stop.remove('estado')\n",
    "esp_stop.remove('estados')"
   ]
  },
  {
   "cell_type": "code",
   "execution_count": 32,
   "id": "d51ff506",
   "metadata": {},
   "outputs": [
    {
     "name": "stderr",
     "output_type": "stream",
     "text": [
      "2025-08-02 18:40:47 INFO: Checking for updates to resources.json in case models have been updated.  Note: this behavior can be turned off with download_method=None or download_method=DownloadMethod.REUSE_RESOURCES\n",
      "Downloading https://raw.githubusercontent.com/stanfordnlp/stanza-resources/main/resources_1.10.0.json: 433kB [00:00, 37.2MB/s]                    \n",
      "2025-08-02 18:40:47 INFO: Downloaded file to /root/stanza_resources/resources.json\n",
      "2025-08-02 18:40:48 INFO: Loading these models for language: es (Spanish):\n",
      "=================================\n",
      "| Processor | Package           |\n",
      "---------------------------------\n",
      "| tokenize  | combined          |\n",
      "| mwt       | combined          |\n",
      "| pos       | combined_charlm   |\n",
      "| lemma     | combined_nocharlm |\n",
      "=================================\n",
      "\n",
      "2025-08-02 18:40:48 INFO: Using device: cuda\n",
      "2025-08-02 18:40:48 INFO: Loading: tokenize\n",
      "2025-08-02 18:40:49 INFO: Loading: mwt\n",
      "2025-08-02 18:40:49 INFO: Loading: pos\n",
      "2025-08-02 18:40:52 INFO: Loading: lemma\n",
      "2025-08-02 18:40:53 INFO: Done loading processors!\n"
     ]
    }
   ],
   "source": [
    "# Configurar Stanza Pipeline\n",
    "nlp = stanza.Pipeline(lang='es', processors='tokenize,mwt,pos,lemma')"
   ]
  },
  {
   "cell_type": "code",
   "execution_count": 33,
   "id": "7da4d17b",
   "metadata": {},
   "outputs": [],
   "source": [
    "# Cargar Dataset\n",
    "df = pd.read_csv('../data/raw/ecqq.csv', sep='\\t', index_col=0) "
   ]
  },
  {
   "cell_type": "code",
   "execution_count": 34,
   "id": "5b2ff850",
   "metadata": {},
   "outputs": [
    {
     "data": {
      "text/html": [
       "<div>\n",
       "<style scoped>\n",
       "    .dataframe tbody tr th:only-of-type {\n",
       "        vertical-align: middle;\n",
       "    }\n",
       "\n",
       "    .dataframe tbody tr th {\n",
       "        vertical-align: top;\n",
       "    }\n",
       "\n",
       "    .dataframe thead th {\n",
       "        text-align: right;\n",
       "    }\n",
       "</style>\n",
       "<table border=\"1\" class=\"dataframe\">\n",
       "  <thead>\n",
       "    <tr style=\"text-align: right;\">\n",
       "      <th></th>\n",
       "      <th>P2_1_B</th>\n",
       "    </tr>\n",
       "  </thead>\n",
       "  <tbody>\n",
       "    <tr>\n",
       "      <th>0</th>\n",
       "      <td>se necesitan pensiones dignas a los adultos ma...</td>\n",
       "    </tr>\n",
       "    <tr>\n",
       "      <th>1</th>\n",
       "      <td>el acceso a la salud sea de calidad, con diagn...</td>\n",
       "    </tr>\n",
       "    <tr>\n",
       "      <th>2</th>\n",
       "      <td>conprender que el trabajo es una \"actividad\" y...</td>\n",
       "    </tr>\n",
       "    <tr>\n",
       "      <th>3</th>\n",
       "      <td>- más especialistas en los consultorios, son e...</td>\n",
       "    </tr>\n",
       "    <tr>\n",
       "      <th>4</th>\n",
       "      <td>hay que poner ojo en la educación de los jóven...</td>\n",
       "    </tr>\n",
       "  </tbody>\n",
       "</table>\n",
       "</div>"
      ],
      "text/plain": [
       "                                              P2_1_B\n",
       "0  se necesitan pensiones dignas a los adultos ma...\n",
       "1  el acceso a la salud sea de calidad, con diagn...\n",
       "2  conprender que el trabajo es una \"actividad\" y...\n",
       "3  - más especialistas en los consultorios, son e...\n",
       "4  hay que poner ojo en la educación de los jóven..."
      ]
     },
     "execution_count": 34,
     "metadata": {},
     "output_type": "execute_result"
    }
   ],
   "source": [
    "df.head()"
   ]
  },
  {
   "cell_type": "code",
   "execution_count": null,
   "id": "865a4efb",
   "metadata": {},
   "outputs": [],
   "source": [
    "def lemmatizer(text):\n",
    "    # Eliminar puntuación antes de lematizar\n",
    "    text = re.sub(r'[^\\w\\s]', '', text)\n",
    "    doc = nlp(text)\n",
    "    lemmas = [word.lemma for sent in doc.sentences for word in sent.words if word.lemma not in esp_stop]\n",
    "    return ' '.join(lemmas)\n",
    "\n",
    "\n",
    "# Aplicar lematización y limpieza\n",
    "df['lemma'] = [lemmatizer(x) for x in df['P2_1_B']]"
   ]
  },
  {
   "cell_type": "code",
   "execution_count": null,
   "id": "9a413b2a",
   "metadata": {},
   "outputs": [],
   "source": [
    "# Tokenización y Bigramas\n",
    "# Aplicamos bigramas con Gensim y luego los utilizamos tanto para LDA como para KMeans\n",
    "corpus_tokenizado = [word_tokenize(texto) for texto in df['lemma']]\n",
    "\n",
    "# Crear bigramas\n",
    "bigram = Phrases(corpus_tokenizado, min_count=5, threshold=50)\n",
    "bigram_mod = Phraser(bigram)\n",
    "textos_bigramas = [bigram_mod[doc] for doc in corpus_tokenizado]"
   ]
  },
  {
   "cell_type": "code",
   "execution_count": null,
   "id": "cc4b8856",
   "metadata": {},
   "outputs": [
    {
     "data": {
      "text/plain": [
       "['necesitar',\n",
       " 'pensión',\n",
       " 'digno',\n",
       " 'adulto_mayor',\n",
       " 'alcanzar',\n",
       " 'costo',\n",
       " 'vida',\n",
       " 'alto',\n",
       " 'vivir']"
      ]
     },
     "execution_count": 29,
     "metadata": {},
     "output_type": "execute_result"
    }
   ],
   "source": [
    "textos_bigramas[0]"
   ]
  },
  {
   "cell_type": "markdown",
   "id": "8b4b86ad",
   "metadata": {},
   "source": [
    "Se ve que apareció un bigrama `adulto_mayor`"
   ]
  },
  {
   "cell_type": "code",
   "execution_count": null,
   "id": "20d2b049",
   "metadata": {},
   "outputs": [],
   "source": [
    "# Preparar Corpus y Diccionario para LDA\n",
    "id2word = gensim.corpora.Dictionary(textos_bigramas)\n",
    "corpus = [id2word.doc2bow(text) for text in textos_bigramas]"
   ]
  },
  {
   "cell_type": "markdown",
   "id": "3982ef36",
   "metadata": {},
   "source": [
    "## 3. Diagnóstico y ejecución del modelo LDA\n",
    "\n",
    "A continucación, se realiza un diagnóstico del número óptimo de tópicos utilizando la métrica de coherencia (Coherence Score). A partir de la matriz DTM generada, se prueba el modelo LDA con distintos valores de tópicos para identificar el punto de mayor coherencia semántica. Finalmente, se ejecuta el modelo LDA con el número de tópicos seleccionado, para posteriormente etiquetar los temas más representativos del corpus."
   ]
  },
  {
   "cell_type": "code",
   "execution_count": null,
   "id": "f48f3b19",
   "metadata": {},
   "outputs": [],
   "source": [
    "def compute_coherence_values(dictionary, corpus, texts, limit, start=2, step=1):\n",
    "    coherence_values = []\n",
    "    model_list = []\n",
    "    for num_topics in range(start, limit, step):\n",
    "        model = gensim.models.LdaModel(corpus=corpus, id2word=dictionary, num_topics=num_topics, random_state=42)\n",
    "        model_list.append(model)\n",
    "        coherencemodel = CoherenceModel(model=model, texts=texts, dictionary=dictionary, coherence='c_v')\n",
    "        coherence_values.append(coherencemodel.get_coherence())\n",
    "    return model_list, coherence_values\n",
    "\n",
    "model_list, coherence_values = compute_coherence_values(dictionary=id2word, corpus=corpus, texts=textos_bigramas, start=2, limit=10, step=1)\n"
   ]
  },
  {
   "cell_type": "code",
   "execution_count": null,
   "id": "f45927d0",
   "metadata": {},
   "outputs": [
    {
     "data": {
      "image/png": "[encoded data removed]",
      "text/plain": [
       "<Figure size 640x480 with 1 Axes>"
      ]
     },
     "metadata": {},
     "output_type": "display_data"
    }
   ],
   "source": [
    "# Gráfico de Coherencia\n",
    "plt.plot(range(2, 10), coherence_values)\n",
    "plt.xlabel(\"Número de Tópicos\")\n",
    "plt.ylabel(\"Coherencia\")\n",
    "plt.title(\"Coherencia vs Número de Tópicos\")\n",
    "plt.show()"
   ]
  },
  {
   "cell_type": "markdown",
   "id": "d10b09bb",
   "metadata": {},
   "source": [
    "**Número óptimo de tópicos: 5**  \n",
    "\n",
    "El valor más alto de coherencia se da en 5 y 8 tópicos (0.35 aproximadamente). Se seleccionó 5 tópicos como el número óptimo, ya que presenta uno de los valores más altos de coherencia y permite identificar temáticas relevantes sin sobresegmentar el corpus."
   ]
  },
  {
   "cell_type": "markdown",
   "id": "f709b9eb",
   "metadata": {},
   "source": [
    "### 3.1. Aplicación del modelo LDA"
   ]
  },
  {
   "cell_type": "code",
   "execution_count": null,
   "id": "cabfcecc",
   "metadata": {},
   "outputs": [
    {
     "name": "stdout",
     "output_type": "stream",
     "text": [
      "Tópico 0: 0.026*\"atención\" + 0.020*\"educación\" + 0.019*\"falta\" + 0.018*\"persona\" + 0.016*\"medicamento\" + 0.016*\"mejorar\" + 0.015*\"calidad\" + 0.013*\"salud\" + 0.013*\"especialista\" + 0.011*\"sistema\"\n",
      "Tópico 1: 0.016*\"educación\" + 0.015*\"país\" + 0.012*\"agua\" + 0.011*\"cambio\" + 0.009*\"existir\" + 0.009*\"persona\" + 0.008*\"participante\" + 0.008*\"afp\" + 0.007*\"necesidad\" + 0.007*\"dar\"\n",
      "Tópico 2: 0.027*\"sistema\" + 0.026*\"salud\" + 0.026*\"pensión\" + 0.013*\"atención\" + 0.012*\"calidad\" + 0.011*\"vida\" + 0.010*\"sueldo\" + 0.010*\"público\" + 0.010*\"mejor\" + 0.009*\"adulto_mayor\"\n",
      "Tópico 3: 0.046*\"salud\" + 0.028*\"mejorar\" + 0.026*\"atención\" + 0.022*\"calidad\" + 0.022*\"especialista\" + 0.020*\"falta\" + 0.017*\"espera\" + 0.017*\"profesional\" + 0.015*\"acceso\" + 0.014*\"lista\"\n",
      "Tópico 4: 0.013*\"pensión\" + 0.010*\"afp\" + 0.008*\"persona\" + 0.008*\"mejorar\" + 0.007*\"aumentar\" + 0.007*\"sueldo\" + 0.007*\"edad\" + 0.006*\"existir\" + 0.006*\"disminuir\" + 0.005*\"año\"\n"
     ]
    }
   ],
   "source": [
    "# Modelo LDA Final\n",
    "optimal_topics = 5  \n",
    "lda_model = gensim.models.LdaModel(corpus=corpus, id2word=id2word, num_topics=optimal_topics, random_state=42)\n",
    "\n",
    "# Mostrar Tópicos y Proponer Etiquetas\n",
    "for idx, topic in lda_model.print_topics(-1):\n",
    "    print(f\"Tópico {idx}: {topic}\")"
   ]
  },
  {
   "cell_type": "markdown",
   "id": "f1ad0915",
   "metadata": {},
   "source": [
    "### 3.2. Etiquetado de tópicos - Modelo LDA\n",
    "\n",
    "**Tópico 0: “Falta de recursos en salud y educación”**  \n",
    "- Palabras como “falta”, “atención”, “educación” y “medicamento” reflejan preocupaciones por la escasez de recursos en los sistemas de salud y educación, así como la necesidad de mejorar la calidad de estos servicios.\n",
    "\n",
    "**Tópico 1: “Reformas estructurales necesarias”**  \n",
    "- Este tópico agrupa temas como “educación”, “agua”, “cambio” y “afp”, lo que indica una visión de problemáticas estructurales del país, vinculadas a la gestión de recursos naturales y el sistema previsional.\n",
    "\n",
    "**Tópico 2: “Sistema de pensiones y calidad de vida”**  \n",
    "- Palabras como “pensión”, “salud”, “sueldo” y “vida” muestran demandas por mejorar el sistema previsional y garantizar condiciones dignas para la población, especialmente en su etapa de jubilación.\n",
    "\n",
    "**Tópico 3: “Acceso a salud y falta de especialistas”**  \n",
    "- Este tópico destaca problemas de acceso a la atención médica, como la “falta” de “especialistas”, “listas de espera” y la necesidad de mejorar la calidad de los servicios de salud pública.\n",
    "\n",
    "**Tópico 4: “Reformas al sistema previsional”**  \n",
    "- Aparecen palabras como “pensión”, “afp”, “sueldo” y “edad” que indican preocupaciones sobre la insuficiencia de las pensiones actuales y la necesidad de reformar el sistema previsional para mejorar las condiciones de retiro.\n",
    "----"
   ]
  },
  {
   "cell_type": "markdown",
   "id": "63b1db4d",
   "metadata": {},
   "source": [
    "## 4. Clustering con KMeans\n",
    "\n",
    "En esta sección se aplica el algoritmo de clustering KMeans sobre la misma matriz DTM utilizada en LDA, con el objetivo de segmentar los documentos en grupos estructurales. A través del gráfico del Silhouette Score se determina el número óptimo de clusters, para luego comparar la calidad de la segmentación obtenida por KMeans frente a la interpretación temática proporcionada por LDA.\n"
   ]
  },
  {
   "cell_type": "code",
   "execution_count": 38,
   "id": "8518460b",
   "metadata": {},
   "outputs": [
    {
     "data": {
      "image/png": "[encoded data removed]",
      "text/plain": [
       "<Figure size 640x480 with 1 Axes>"
      ]
     },
     "metadata": {},
     "output_type": "display_data"
    }
   ],
   "source": [
    "# Convertimos textos_bigramas en strings para la DTM\n",
    "textos_bigramas_str = [' '.join(doc) for doc in textos_bigramas]\n",
    "\n",
    "# Clustering con KMeans\n",
    "vectorizer = CountVectorizer(stop_words=esp_stop)\n",
    "dtm = vectorizer.fit_transform(textos_bigramas_str)\n",
    "\n",
    "# Determinar K óptimo usando Silhouette Score\n",
    "sil = []\n",
    "K = range(2, 10)\n",
    "for k in K:\n",
    "    kmeans = KMeans(n_clusters=k, random_state=42)\n",
    "    kmeans.fit(dtm)\n",
    "    labels = kmeans.labels_\n",
    "    sil.append(silhouette_score(dtm, labels))\n",
    "\n",
    "# Gráfico Silhouette\n",
    "plt.plot(K, sil)\n",
    "plt.xlabel(\"Número de Clusters\")\n",
    "plt.ylabel(\"Silhouette Score\")\n",
    "plt.title(\"Silhouette vs Número de Clusters\")\n",
    "plt.show()"
   ]
  },
  {
   "cell_type": "markdown",
   "id": "afb3eae7",
   "metadata": {},
   "source": [
    "**Número óptimo de clusters: 2**\n",
    "\n",
    "El valor más alto de Silhouette Score se obtiene con 2 clusters. Sin embargo, el score es bajo (<0.05), indicando que la separación en clusters no es claramente definida. A medida que aumenta el número de clusters, el score disminuye y vuelve a remontar muy bajo en 6, lo que refleja la dificultad de segmentar estos textos de forma organizada."
   ]
  },
  {
   "cell_type": "markdown",
   "id": "a3d29da1",
   "metadata": {},
   "source": [
    "## 5. Comparación LDA vs KMeans\n",
    "Para comparar técnicas de agrupación de textos, se aplicó KMeans sobre la misma matriz DTM utilizada en el modelo LDA. El análisis de Silhouette Score mostró que el número óptimo de clusters es `K=2`, sin embargo, el valor del score fue bajo (`0.028`), lo que refleja una segmentación débil y con poca separación clara entre los grupos cuando se intenta segmentar sólo con frecuencia de palabras.\n",
    "\n",
    "Por otro lado, el modelo LDA permitió identificar 5 tópicos interpretables, aunque algunos de ellos presentan superposición de conceptos, como ocurre con las problemáticas de salud, pensiones y calidad de vida, que generalmente aparecen en la opinión pública. Aún así, LDA logra capturar estas conexiones de manera más coherente y significativa que KMeans, permitiendo entender las temáticas dominantes en el corpus.\n",
    "\n",
    "En resumen, el número óptimo de clusters (K=2) obtenido con KMeans no coincide con el número de tópicos óptimos (5) en LDA. Además, la partición de LDA tiene mayor sentido interpretativo, ya que trabaja relaciones semánticas entre palabras, mientras que KMeans solo agrupa según patrones de frecuencia, sin contexto temático. Por lo tanto, LDA es más adecuado para el análisis de contenido en este caso."
   ]
  },
  {
   "cell_type": "markdown",
   "id": "016cdd48",
   "metadata": {},
   "source": [
    "--------\n",
    "Referencias\n",
    "- Gensim LDA: https://radimrehurek.com/gensim_3.8.3/auto_examples/tutorials/run_lda.html\n",
    "- Stanza NLP: https://stanfordnlp.github.io/stanza/\n",
    "- Scikit-learn: https://scikit-learn.org/stable/modules/clustering.html#k-means"
   ]
  }
 ],
 "metadata": {
  "kernelspec": {
   "display_name": "Python 3",
   "language": "python",
   "name": "python3"
  },
  "language_info": {
   "codemirror_mode": {
    "name": "ipython",
    "version": 3
   },
   "file_extension": ".py",
   "mimetype": "text/x-python",
   "name": "python",
   "nbconvert_exporter": "python",
   "pygments_lexer": "ipython3",
   "version": "3.10.12"
  }
 },
 "nbformat": 4,
 "nbformat_minor": 5
}
